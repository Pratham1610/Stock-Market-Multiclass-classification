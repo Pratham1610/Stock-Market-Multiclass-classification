{
 "cells": [
  {
   "cell_type": "code",
   "execution_count": 30,
   "metadata": {},
   "outputs": [],
   "source": [
    "import numpy as np\n",
    "import pandas as pd\n",
    "from sklearn.impute import SimpleImputer \n",
    "from sklearn.tree import DecisionTreeClassifier\n",
    "from sklearn.ensemble import RandomForestClassifier\n",
    "from sklearn.svm import SVC\n",
    "from sklearn.metrics import accuracy_score, classification_report, confusion_matrix\n",
    "import matplotlib.pyplot as plt\n",
    "from sklearn.ensemble import VotingClassifier\n",
    "from sklearn.model_selection import train_test_split\n",
    "from sklearn.svm import SVC\n",
    "from sklearn.linear_model import LogisticRegression\n",
    "from sklearn.base import BaseEstimator, ClassifierMixin\n",
    "from sklearn.utils import check_X_y\n",
    "\n"
   ]
  },
  {
   "cell_type": "code",
   "execution_count": 31,
   "metadata": {},
   "outputs": [],
   "source": [
    "\n",
    "# class HyperTreeSVM:\n",
    "#     def __init__(self, tree_depth, svm_kernel, svm_C):\n",
    "#         self.tree_depth = tree_depth\n",
    "#         self.svm_kernel = svm_kernel\n",
    "#         self.svm_C = svm_C\n",
    "\n",
    "#     def fit(self, X, y):\n",
    "#         self.clf_tree = DecisionTreeClassifier(max_depth=self.tree_depth)\n",
    "#         self.clf_tree.fit(X, y)\n",
    "\n",
    "#         leaf_indices = np.where(self.clf_tree.apply(X) == -1)[0]\n",
    "#         self.leaves_id = {i: leaf_id for leaf_id, i in enumerate(leaf_indices)}\n",
    "#         self.leaves_counter = len(self.leaves_id)\n",
    "\n",
    "#         self.clf_svm = []\n",
    "#         for leaf_id in range(self.leaves_counter):\n",
    "#             node_id = list(self.leaves_id.values())[leaf_id]\n",
    "#             leaf_indices = np.where(self.clf_tree.apply(X) == node_id)\n",
    "#             X_leaf, y_leaf = X[leaf_indices], y[leaf_indices]\n",
    "            \n",
    "#             clf_svm_leaf = SVC(kernel=self.svm_kernel, C=self.svm_C)\n",
    "#             clf_svm_leaf.fit(X_leaf, y_leaf)\n",
    "#             self.clf_svm.append(clf_svm_leaf)\n",
    "\n",
    "#     def predict(self, X):\n",
    "#         y_pred = np.zeros(X.shape[0])\n",
    "#         for i in range(self.leaves_counter):\n",
    "#             node_id = list(self.leaves_id.values())[i]\n",
    "#             leaf_indices = np.where(self.clf_tree.apply(X) == node_id)\n",
    "#             y_pred[leaf_indices] = self.clf_svm[i].predict(X[leaf_indices])\n",
    "#         return y_pred\n"
   ]
  },
  {
   "cell_type": "code",
   "execution_count": 32,
   "metadata": {},
   "outputs": [],
   "source": [
    "\n",
    "class HybridTreeSVM(BaseEstimator, ClassifierMixin):\n",
    "    def __init__(self, tree_params=None, svm_params=None, lr_params=None):\n",
    "        self.tree_params = tree_params or {}\n",
    "        self.svm_params = svm_params or {'kernel': 'linear', 'C': 1, 'decision_function_shape': 'ovr'}\n",
    "        self.lr_params = lr_params or {'random_state': 42, 'max_iter': 1000}\n",
    "        \n",
    "        self.tree_classifier = DecisionTreeClassifier(**self.tree_params)\n",
    "        self.svm_classifier = SVC(**self.svm_params)\n",
    "        self.lr_classifier = LogisticRegression(**self.lr_params)\n",
    "\n",
    "    def fit(self, X, y):\n",
    "        X, y = check_X_y(X, y)\n",
    "        \n",
    "        # Train Decision Tree\n",
    "        self.tree_classifier.fit(X, y)\n",
    "        dt_predictions = self.tree_classifier.predict(X)\n",
    "\n",
    "        # Train SVM\n",
    "        self.svm_classifier.fit(X, y)\n",
    "        svm_predictions = self.svm_classifier.predict(X)\n",
    "\n",
    "        # Combine predictions\n",
    "        combined_predictions = np.column_stack((dt_predictions, svm_predictions))\n",
    "\n",
    "        # Train Logistic Regression model on combined predictions\n",
    "        self.lr_classifier.fit(combined_predictions, y)\n",
    "\n",
    "        return self\n",
    "\n",
    "    def predict(self, X):\n",
    "        dt_predictions = self.tree_classifier.predict(X)\n",
    "        svm_predictions = self.svm_classifier.predict(X)\n",
    "\n",
    "        # Combine predictions\n",
    "        combined_predictions = np.column_stack((dt_predictions, svm_predictions))\n",
    "\n",
    "        # Make final predictions using Logistic Regression\n",
    "        final_predictions = self.lr_classifier.predict(combined_predictions)\n",
    "\n",
    "        return final_predictions\n",
    "\n",
    "    def score(self, X, y):\n",
    "        # Score the model using accuracy\n",
    "        predictions = self.predict(X)\n",
    "        accuracy = np.mean(predictions == y)\n",
    "        return accuracy\n"
   ]
  },
  {
   "cell_type": "code",
   "execution_count": 33,
   "metadata": {},
   "outputs": [],
   "source": [
    "# Load the updated dataset\n",
    "df = pd.read_csv('processed_stock_data.csv')\n",
    "\n",
    "# Extract independent variables (X) and target variable (y)\n",
    "X = df[['Open', 'High', 'Low', 'Close', 'Adj Close', 'Volume']]\n",
    "y = df['signal']\n"
   ]
  },
  {
   "cell_type": "code",
   "execution_count": 34,
   "metadata": {},
   "outputs": [],
   "source": [
    "# DecisionTreeClassifier does not accept missing values encoded as NaN.\n",
    "# Handle missing values in X\n",
    "imputer = SimpleImputer(strategy='mean')\n",
    "X = imputer.fit_transform(X)\n"
   ]
  },
  {
   "cell_type": "code",
   "execution_count": 35,
   "metadata": {},
   "outputs": [],
   "source": [
    "X_train, X_test, y_train, y_test = train_test_split(X, y, test_size=0.1, random_state=1)\n",
    "\n",
    "# Create and fit the hybrid model\n",
    "model = HybridTreeSVM()\n"
   ]
  },
  {
   "cell_type": "code",
   "execution_count": 36,
   "metadata": {},
   "outputs": [
    {
     "data": {
      "text/html": [
       "<style>#sk-container-id-4 {color: black;}#sk-container-id-4 pre{padding: 0;}#sk-container-id-4 div.sk-toggleable {background-color: white;}#sk-container-id-4 label.sk-toggleable__label {cursor: pointer;display: block;width: 100%;margin-bottom: 0;padding: 0.3em;box-sizing: border-box;text-align: center;}#sk-container-id-4 label.sk-toggleable__label-arrow:before {content: \"▸\";float: left;margin-right: 0.25em;color: #696969;}#sk-container-id-4 label.sk-toggleable__label-arrow:hover:before {color: black;}#sk-container-id-4 div.sk-estimator:hover label.sk-toggleable__label-arrow:before {color: black;}#sk-container-id-4 div.sk-toggleable__content {max-height: 0;max-width: 0;overflow: hidden;text-align: left;background-color: #f0f8ff;}#sk-container-id-4 div.sk-toggleable__content pre {margin: 0.2em;color: black;border-radius: 0.25em;background-color: #f0f8ff;}#sk-container-id-4 input.sk-toggleable__control:checked~div.sk-toggleable__content {max-height: 200px;max-width: 100%;overflow: auto;}#sk-container-id-4 input.sk-toggleable__control:checked~label.sk-toggleable__label-arrow:before {content: \"▾\";}#sk-container-id-4 div.sk-estimator input.sk-toggleable__control:checked~label.sk-toggleable__label {background-color: #d4ebff;}#sk-container-id-4 div.sk-label input.sk-toggleable__control:checked~label.sk-toggleable__label {background-color: #d4ebff;}#sk-container-id-4 input.sk-hidden--visually {border: 0;clip: rect(1px 1px 1px 1px);clip: rect(1px, 1px, 1px, 1px);height: 1px;margin: -1px;overflow: hidden;padding: 0;position: absolute;width: 1px;}#sk-container-id-4 div.sk-estimator {font-family: monospace;background-color: #f0f8ff;border: 1px dotted black;border-radius: 0.25em;box-sizing: border-box;margin-bottom: 0.5em;}#sk-container-id-4 div.sk-estimator:hover {background-color: #d4ebff;}#sk-container-id-4 div.sk-parallel-item::after {content: \"\";width: 100%;border-bottom: 1px solid gray;flex-grow: 1;}#sk-container-id-4 div.sk-label:hover label.sk-toggleable__label {background-color: #d4ebff;}#sk-container-id-4 div.sk-serial::before {content: \"\";position: absolute;border-left: 1px solid gray;box-sizing: border-box;top: 0;bottom: 0;left: 50%;z-index: 0;}#sk-container-id-4 div.sk-serial {display: flex;flex-direction: column;align-items: center;background-color: white;padding-right: 0.2em;padding-left: 0.2em;position: relative;}#sk-container-id-4 div.sk-item {position: relative;z-index: 1;}#sk-container-id-4 div.sk-parallel {display: flex;align-items: stretch;justify-content: center;background-color: white;position: relative;}#sk-container-id-4 div.sk-item::before, #sk-container-id-4 div.sk-parallel-item::before {content: \"\";position: absolute;border-left: 1px solid gray;box-sizing: border-box;top: 0;bottom: 0;left: 50%;z-index: -1;}#sk-container-id-4 div.sk-parallel-item {display: flex;flex-direction: column;z-index: 1;position: relative;background-color: white;}#sk-container-id-4 div.sk-parallel-item:first-child::after {align-self: flex-end;width: 50%;}#sk-container-id-4 div.sk-parallel-item:last-child::after {align-self: flex-start;width: 50%;}#sk-container-id-4 div.sk-parallel-item:only-child::after {width: 0;}#sk-container-id-4 div.sk-dashed-wrapped {border: 1px dashed gray;margin: 0 0.4em 0.5em 0.4em;box-sizing: border-box;padding-bottom: 0.4em;background-color: white;}#sk-container-id-4 div.sk-label label {font-family: monospace;font-weight: bold;display: inline-block;line-height: 1.2em;}#sk-container-id-4 div.sk-label-container {text-align: center;}#sk-container-id-4 div.sk-container {/* jupyter's `normalize.less` sets `[hidden] { display: none; }` but bootstrap.min.css set `[hidden] { display: none !important; }` so we also need the `!important` here to be able to override the default hidden behavior on the sphinx rendered scikit-learn.org. See: https://github.com/scikit-learn/scikit-learn/issues/21755 */display: inline-block !important;position: relative;}#sk-container-id-4 div.sk-text-repr-fallback {display: none;}</style><div id=\"sk-container-id-4\" class=\"sk-top-container\"><div class=\"sk-text-repr-fallback\"><pre>HybridTreeSVM(lr_params={&#x27;max_iter&#x27;: 1000, &#x27;random_state&#x27;: 42},\n",
       "              svm_params={&#x27;C&#x27;: 1, &#x27;decision_function_shape&#x27;: &#x27;ovr&#x27;,\n",
       "                          &#x27;kernel&#x27;: &#x27;linear&#x27;},\n",
       "              tree_params={})</pre><b>In a Jupyter environment, please rerun this cell to show the HTML representation or trust the notebook. <br />On GitHub, the HTML representation is unable to render, please try loading this page with nbviewer.org.</b></div><div class=\"sk-container\" hidden><div class=\"sk-item\"><div class=\"sk-estimator sk-toggleable\"><input class=\"sk-toggleable__control sk-hidden--visually\" id=\"sk-estimator-id-4\" type=\"checkbox\" checked><label for=\"sk-estimator-id-4\" class=\"sk-toggleable__label sk-toggleable__label-arrow\">HybridTreeSVM</label><div class=\"sk-toggleable__content\"><pre>HybridTreeSVM(lr_params={&#x27;max_iter&#x27;: 1000, &#x27;random_state&#x27;: 42},\n",
       "              svm_params={&#x27;C&#x27;: 1, &#x27;decision_function_shape&#x27;: &#x27;ovr&#x27;,\n",
       "                          &#x27;kernel&#x27;: &#x27;linear&#x27;},\n",
       "              tree_params={})</pre></div></div></div></div></div>"
      ],
      "text/plain": [
       "HybridTreeSVM(lr_params={'max_iter': 1000, 'random_state': 42},\n",
       "              svm_params={'C': 1, 'decision_function_shape': 'ovr',\n",
       "                          'kernel': 'linear'},\n",
       "              tree_params={})"
      ]
     },
     "execution_count": 36,
     "metadata": {},
     "output_type": "execute_result"
    }
   ],
   "source": [
    "model.fit(X_train, y_train)"
   ]
  },
  {
   "cell_type": "code",
   "execution_count": 37,
   "metadata": {},
   "outputs": [
    {
     "name": "stdout",
     "output_type": "stream",
     "text": [
      "Accuracy: 40.51282051282051\n"
     ]
    }
   ],
   "source": [
    "# Make predictions and evaluate accuracy\n",
    "y_pred = model.predict(X_test)\n",
    "print('Accuracy:', accuracy_score(y_test, y_pred)*100)"
   ]
  },
  {
   "cell_type": "code",
   "execution_count": 38,
   "metadata": {},
   "outputs": [
    {
     "name": "stdout",
     "output_type": "stream",
     "text": [
      "\n",
      "HKSVM Confusion Matrix:\n",
      "[[23 33  9]\n",
      " [32 41 12]\n",
      " [10 20 15]]\n"
     ]
    }
   ],
   "source": [
    "hksvm_conf_matrix = confusion_matrix(y_test, y_pred)\n",
    "print(\"\\nHKSVM Confusion Matrix:\")\n",
    "print(hksvm_conf_matrix)"
   ]
  },
  {
   "cell_type": "code",
   "execution_count": null,
   "metadata": {},
   "outputs": [],
   "source": []
  }
 ],
 "metadata": {
  "kernelspec": {
   "display_name": "Python 3",
   "language": "python",
   "name": "python3"
  },
  "language_info": {
   "codemirror_mode": {
    "name": "ipython",
    "version": 3
   },
   "file_extension": ".py",
   "mimetype": "text/x-python",
   "name": "python",
   "nbconvert_exporter": "python",
   "pygments_lexer": "ipython3",
   "version": "3.11.4"
  }
 },
 "nbformat": 4,
 "nbformat_minor": 2
}
