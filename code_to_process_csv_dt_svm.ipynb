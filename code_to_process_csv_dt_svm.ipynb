{
 "cells": [
  {
   "cell_type": "code",
   "execution_count": 3,
   "metadata": {},
   "outputs": [
    {
     "name": "stdout",
     "output_type": "stream",
     "text": [
      "signal\n",
      " 0    4342\n",
      "-1    3133\n",
      " 1    2624\n",
      "Name: count, dtype: int64\n"
     ]
    }
   ],
   "source": [
    "import pandas as pd\n",
    "import numpy as np\n",
    "\n",
    "# Load the dataset into a pandas DataFrame\n",
    "df = pd.read_csv('ADP.csv')\n",
    "\n",
    "# Assuming the column name for closing prices is 'Close' (you should adjust this based on your actual column name)\n",
    "close_column = 'Close'\n",
    "\n",
    "# Define the rule-based system for generating signals based on local minima and maxima\n",
    "def generate_signals(data, close_col, window=5):\n",
    "    signals = []\n",
    "    local_minima = data[close_col].rolling(window=window).min()\n",
    "    local_maxima = data[close_col].rolling(window=window).max()\n",
    "\n",
    "    for i in range(1, len(data)):\n",
    "        if data[close_col][i] == local_minima[i]:\n",
    "            signals.append(1)  # Buy signal at local minima\n",
    "        elif data[close_col][i] == local_maxima[i]:\n",
    "            signals.append(-1)  # Sell signal at local maxima\n",
    "        else:\n",
    "            signals.append(0)  # Hold signal\n",
    "\n",
    "    return [0] + signals  # Add a 0 for the first row since there is no previous row to compare\n",
    "\n",
    "# Apply the rule-based system to generate signals\n",
    "df['signal'] = generate_signals(df, close_column)\n",
    "\n",
    "# Check the distribution of signals\n",
    "print(df['signal'].value_counts())\n",
    "\n",
    "# Save the updated DataFrame to a new CSV file\n",
    "df.to_csv('new.csv', index=False)\n"
   ]
  },
  {
   "cell_type": "code",
   "execution_count": null,
   "metadata": {},
   "outputs": [],
   "source": []
  }
 ],
 "metadata": {
  "kernelspec": {
   "display_name": "Python 3",
   "language": "python",
   "name": "python3"
  },
  "language_info": {
   "codemirror_mode": {
    "name": "ipython",
    "version": 3
   },
   "file_extension": ".py",
   "mimetype": "text/x-python",
   "name": "python",
   "nbconvert_exporter": "python",
   "pygments_lexer": "ipython3",
   "version": "3.11.4"
  }
 },
 "nbformat": 4,
 "nbformat_minor": 2
}
